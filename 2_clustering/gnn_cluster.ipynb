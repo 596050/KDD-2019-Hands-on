{
 "cells": [
  {
   "cell_type": "markdown",
   "metadata": {},
   "source": [
    "# Loading Data\n",
    "\n",
    "The dataset consists of detection *events*, wherein a variable number of particles come into contact with the detector's cells. The location of these impacts are called *hits*, and there are likewise a variable number of them per particle."
   ]
  },
  {
   "cell_type": "code",
   "execution_count": 1,
   "metadata": {},
   "outputs": [
    {
     "name": "stdout",
     "output_type": "stream",
     "text": [
      "Loaded 100 samples.\n"
     ]
    }
   ],
   "source": [
    "import pickle\n",
    "import numpy as np\n",
    "\n",
    "with open('tracks.pickle', 'rb') as f:\n",
    "    samples = pickle.load(f)\n",
    "\n",
    "print(\"Loaded {} samples.\".format(len(samples)))"
   ]
  },
  {
   "cell_type": "markdown",
   "metadata": {},
   "source": [
    "### Features\n",
    "\n",
    "Each sample contains a set of hits, and each hit contains the following information:\n",
    "\n",
    "* *x,y,z* coordinates\n",
    "* Cell count and impact magnitude\n",
    "* A learned hit embedding, output from the previous graph creation stage\n",
    "* Ground truth cluster ID, denoting the particle which created the hit\n",
    "\n",
    "Additionally, samples contain graphs as output from the previous stage which aims to connect hits created by the same particle. The two graphs included are\n",
    "\n",
    "* A predicted graph, the raw output from the graph building stage\n",
    "* An augmented graph, which contains the predicted graph, plus any connections missed between hits created by the same particle. This is used in the GNN's loss function.\n",
    "\n",
    "### Visualizations\n",
    "\n",
    "Choosing a sample to explore, one can see how the embedding differs from the raw features for graph creation."
   ]
  },
  {
   "cell_type": "code",
   "execution_count": 2,
   "metadata": {
    "scrolled": false
   },
   "outputs": [
    {
     "data": {
      "image/png": "[encoded data removed]",
      "text/plain": [
       "<Figure size 432x288 with 1 Axes>"
      ]
     },
     "metadata": {
      "needs_background": "light"
     },
     "output_type": "display_data"
    },
    {
     "data": {
      "image/png": "[encoded data removed]",
      "text/plain": [
       "<Figure size 432x288 with 1 Axes>"
      ]
     },
     "metadata": {
      "needs_background": "light"
     },
     "output_type": "display_data"
    },
    {
     "data": {
      "text/plain": [
       "<Figure size 432x288 with 0 Axes>"
      ]
     },
     "metadata": {},
     "output_type": "display_data"
    }
   ],
   "source": [
    "import matplotlib.pyplot as plt\n",
    "%matplotlib inline\n",
    "\n",
    "def plot_clusters(x,y,pid):\n",
    "    for g in np.unique(pid):\n",
    "        i = np.where(pid == g)\n",
    "        plt.scatter(x[i],y[i], label=g)\n",
    "    plt.show()\n",
    "    plt.clf()\n",
    "\n",
    "hits = samples[1]['hits']\n",
    "xyz = hits['xyz']\n",
    "emb = hits['emb']\n",
    "pid = hits['particle_id']\n",
    "\n",
    "# Hit coordinates\n",
    "plot_clusters(xyz[:,0], xyz[:,1], pid)\n",
    "\n",
    "# Emb coordinates\n",
    "plot_clusters(emb[:,0], emb[:,1], pid)"
   ]
  },
  {
   "cell_type": "markdown",
   "metadata": {},
   "source": [
    "Clearly, the embedding will lead to superior clustering as compared with the raw *x,y,z* positions. However, this embedding incorporates information from only each hit individually. With a GNN, one can create node embeddings which incorporate information from the hit's neighborhood. As we will see, this allows for superior embeddings and thus improved performance in clustering.\n",
    "\n",
    "# Model\n",
    "\n",
    "The GNN model chosen is a simple message-passing architecture. One layer concatenates each node's features with an aggregation of the node's neighborhood, before applying a transformation via a fully-connected neural network layer.\n",
    "\n",
    "The output of the model is a set of node embeddings, where this new embedding has the same goal as in the graph building stage: according to some distance metric, node pairs whose hits belong to the same particle should be close, and otherwise they should be far."
   ]
  },
  {
   "cell_type": "code",
   "execution_count": 3,
   "metadata": {},
   "outputs": [],
   "source": [
    "import dgl\n",
    "import torch\n",
    "import torch.nn as nn"
   ]
  },
  {
   "cell_type": "markdown",
   "metadata": {},
   "source": [
    "### Kernel\n",
    "A multi-layer preceptron kernel determines edge weights of the graph at each layer.\n",
    "Here, each edge is represented by the features of its adjoining nodes.\n",
    "These features are passed through the MLP to produce an edge weight between 0 and 1."
   ]
  },
  {
   "cell_type": "code",
   "execution_count": 4,
   "metadata": {},
   "outputs": [],
   "source": [
    "class MLP_Kernel_DGL(nn.Module):\n",
    "    def __init__(self, nb_input, nb_hidden_gnn, nb_output=1, nb_layer=1):\n",
    "        super(MLP_Kernel_DGL, self).__init__()\n",
    "        layers = [nn.Linear(nb_input*2, nb_hidden_gnn)]\n",
    "        for _ in range(nb_layer-1):\n",
    "            layers.append(nn.Linear(nb_hidden_gnn, nb_hidden_gnn))\n",
    "        layers.append(nn.Linear(nb_hidden_gnn, nb_output))\n",
    "        self.layers = nn.ModuleList(layers)\n",
    "        self.act1 = nn.ReLU()\n",
    "        self.act2 = nn.Sigmoid()\n",
    "\n",
    "    def forward(self, g):\n",
    "        g.apply_edges(self.mlp)\n",
    "        return g\n",
    "\n",
    "    def mlp(self, e):\n",
    "        # Gather features from all relevant node pairs\n",
    "        src = e.src['feat']\n",
    "        dst = e.dst['feat']\n",
    "        e_feats = torch.cat((src,dst),dim=1)\n",
    "        \n",
    "        # Apply MLP layers to node pairs\n",
    "        for l in self.layers[:-1]:\n",
    "            e_feats = self.act1(l(e_feats))\n",
    "        \n",
    "        # Apply final output with sigmoid\n",
    "        e_feats = self.layers[-1](e_feats)\n",
    "        e_feats = self.act2(e_feats)\n",
    "        return {'e':e_feats}"
   ]
  },
  {
   "cell_type": "markdown",
   "metadata": {},
   "source": [
    "### Graph convolution\n",
    "Each node concatenated its starting features with its aggregated incoming messages.\n",
    "Then, an affine transformation and ReLU activation are applied to produce a new representation for that node."
   ]
  },
  {
   "cell_type": "code",
   "execution_count": 5,
   "metadata": {},
   "outputs": [],
   "source": [
    "# Convolution operation on graph\n",
    "class DGL_Convolution(nn.Module):\n",
    "    def __init__(self,\n",
    "               input_dim,\n",
    "               nb_hidden_gnn):\n",
    "        super(DGL_Convolution, self).__init__()\n",
    "        self.weights = nn.Linear(2*input_dim, nb_hidden_gnn)\n",
    "        self.act = nn.ReLU()\n",
    "\n",
    "    def forward(self, n):\n",
    "        feats = n.data['feat']\n",
    "        agg_msg = n.data['agg_msg']\n",
    "        node_feats = torch.cat((feats, agg_msg), dim=1)\n",
    "        emb = self.weights(node_feats)\n",
    "        emb = self.act(emb)\n",
    "        return {'emb':emb}"
   ]
  },
  {
   "cell_type": "markdown",
   "metadata": {},
   "source": [
    "### GNN Layer\n",
    "Each GNN layer first, if applicable, normalizes the incoming graph nodes, updates the graph weighting based on that layer's kernel, then applies graph convolution."
   ]
  },
  {
   "cell_type": "code",
   "execution_count": 6,
   "metadata": {},
   "outputs": [],
   "source": [
    "# Complete GNN layer, including normalization, graph weighting, and convolution\n",
    "def weighted_msg(e):\n",
    "    return {'msg': e.src['feat'] * e.data['e']}\n",
    "\n",
    "class GNN_Layer(nn.Module):\n",
    "    def __init__(self, input_dim, nb_hidden_gnn, nb_hidden_kernel, apply_norm=True):\n",
    "        super(GNN_Layer, self).__init__()\n",
    "\n",
    "        self.kernel = MLP_Kernel_DGL(input_dim, nb_hidden_kernel)\n",
    "        self.gconv = DGL_Convolution(input_dim, nb_hidden_gnn)\n",
    "        self.bn = nn.BatchNorm1d(input_dim,momentum=0.10) if apply_norm else None\n",
    "\n",
    "    def forward(self, g, features):\n",
    "        # maybe apply normalization\n",
    "        if self.bn is not None:\n",
    "            features = self.bn(features)\n",
    "        g.ndata['feat'] = features\n",
    "\n",
    "        # set edge weights for this layer\n",
    "        g = self.kernel(g)\n",
    "        \n",
    "        # send weighted messages and apply graph convolution to nodes\n",
    "        g.send_and_recv(g.edges(),\n",
    "                        message_func=weighted_msg,\n",
    "                        reduce_func=dgl.function.sum(msg='msg', out='agg_msg'),\n",
    "                        apply_node_func=self.gconv)\n",
    "        g.ndata.pop('feat')\n",
    "        g.ndata.pop('agg_msg')\n",
    "        return g.ndata.pop('emb')"
   ]
  },
  {
   "cell_type": "markdown",
   "metadata": {},
   "source": [
    "### GNN\n",
    "The GNN consists of several layers as defined above. \n",
    "A final embedding layer takes the node features as output by the GNN layers, and applies an affine transformation to a low dimension space as defined by emb_dim."
   ]
  },
  {
   "cell_type": "code",
   "execution_count": 7,
   "metadata": {},
   "outputs": [],
   "source": [
    "class GNN(nn.Module):\n",
    "  def __init__(self, nb_hidden_gnn, nb_layer, nb_hidden_kernel, input_dim, emb_dim=2):\n",
    "    super(GNN, self).__init__()\n",
    "\n",
    "    # Construct GNN Layers\n",
    "    gnn_layers = [GNN_Layer(input_dim, nb_hidden_gnn, nb_hidden_kernel, apply_norm=True)]\n",
    "    for _ in range(nb_layer-1):\n",
    "        gnn_layers.append(GNN_Layer(nb_hidden_gnn, nb_hidden_gnn, nb_hidden_kernel))\n",
    "    self.layers = nn.ModuleList(gnn_layers)\n",
    "\n",
    "    self.final_emb = nn.Linear(nb_hidden_gnn, emb_dim)\n",
    "\n",
    "  def forward(self, g):\n",
    "    if torch.cuda.is_available():\n",
    "        g.ndata['feat'] = g.ndata.pop('feat').to('cuda', non_blocking=True)\n",
    "\n",
    "    emb = g.ndata.pop('feat')\n",
    "    for i, layer in enumerate(self.layers):\n",
    "      emb = layer(g, emb)\n",
    "    emb = self.final_emb(emb)\n",
    "    return emb"
   ]
  },
  {
   "cell_type": "markdown",
   "metadata": {},
   "source": [
    "# Dataset, Dataloader\n",
    "\n",
    "The TrackML_Dataset class is a PyTorch Dataset subclass, for use in a DataLoader class.\n",
    "The trackml_collate function should be used when instantiating the DataLoader class for minibatch training.\n",
    "\n",
    "Each sample will contain a graph (with features) used as input, and a graph with ground truth information."
   ]
  },
  {
   "cell_type": "code",
   "execution_count": 8,
   "metadata": {},
   "outputs": [],
   "source": [
    "from gnn_utils import TrackML_Dataset\n",
    "from gnn_utils import trackml_collate"
   ]
  },
  {
   "cell_type": "markdown",
   "metadata": {},
   "source": [
    "# Training\n",
    "\n",
    "### Setup"
   ]
  },
  {
   "cell_type": "code",
   "execution_count": 9,
   "metadata": {},
   "outputs": [
    {
     "name": "stdout",
     "output_type": "stream",
     "text": [
      "GNN(\n",
      "  (layers): ModuleList(\n",
      "    (0): GNN_Layer(\n",
      "      (kernel): MLP_Kernel_DGL(\n",
      "        (layers): ModuleList(\n",
      "          (0): Linear(in_features=12, out_features=32, bias=True)\n",
      "          (1): Linear(in_features=32, out_features=1, bias=True)\n",
      "        )\n",
      "        (act1): ReLU()\n",
      "        (act2): Sigmoid()\n",
      "      )\n",
      "      (gconv): DGL_Convolution(\n",
      "        (weights): Linear(in_features=12, out_features=32, bias=True)\n",
      "        (act): ReLU()\n",
      "      )\n",
      "      (bn): BatchNorm1d(6, eps=1e-05, momentum=0.1, affine=True, track_running_stats=True)\n",
      "    )\n",
      "    (1): GNN_Layer(\n",
      "      (kernel): MLP_Kernel_DGL(\n",
      "        (layers): ModuleList(\n",
      "          (0): Linear(in_features=64, out_features=32, bias=True)\n",
      "          (1): Linear(in_features=32, out_features=1, bias=True)\n",
      "        )\n",
      "        (act1): ReLU()\n",
      "        (act2): Sigmoid()\n",
      "      )\n",
      "      (gconv): DGL_Convolution(\n",
      "        (weights): Linear(in_features=64, out_features=32, bias=True)\n",
      "        (act): ReLU()\n",
      "      )\n",
      "      (bn): BatchNorm1d(32, eps=1e-05, momentum=0.1, affine=True, track_running_stats=True)\n",
      "    )\n",
      "    (2): GNN_Layer(\n",
      "      (kernel): MLP_Kernel_DGL(\n",
      "        (layers): ModuleList(\n",
      "          (0): Linear(in_features=64, out_features=32, bias=True)\n",
      "          (1): Linear(in_features=32, out_features=1, bias=True)\n",
      "        )\n",
      "        (act1): ReLU()\n",
      "        (act2): Sigmoid()\n",
      "      )\n",
      "      (gconv): DGL_Convolution(\n",
      "        (weights): Linear(in_features=64, out_features=32, bias=True)\n",
      "        (act): ReLU()\n",
      "      )\n",
      "      (bn): BatchNorm1d(32, eps=1e-05, momentum=0.1, affine=True, track_running_stats=True)\n",
      "    )\n",
      "    (3): GNN_Layer(\n",
      "      (kernel): MLP_Kernel_DGL(\n",
      "        (layers): ModuleList(\n",
      "          (0): Linear(in_features=64, out_features=32, bias=True)\n",
      "          (1): Linear(in_features=32, out_features=1, bias=True)\n",
      "        )\n",
      "        (act1): ReLU()\n",
      "        (act2): Sigmoid()\n",
      "      )\n",
      "      (gconv): DGL_Convolution(\n",
      "        (weights): Linear(in_features=64, out_features=32, bias=True)\n",
      "        (act): ReLU()\n",
      "      )\n",
      "      (bn): BatchNorm1d(32, eps=1e-05, momentum=0.1, affine=True, track_running_stats=True)\n",
      "    )\n",
      "  )\n",
      "  (final_emb): Linear(in_features=32, out_features=2, bias=True)\n",
      ")\n"
     ]
    }
   ],
   "source": [
    "import torch.nn.functional as F\n",
    "from torch.utils.data import DataLoader\n",
    "\n",
    "# PARAMETERS\n",
    "batch_size = 4\n",
    "nb_hidden = 32\n",
    "nb_layers = 4\n",
    "learn_rate = 0.001\n",
    "\n",
    "dataset = TrackML_Dataset(samples)\n",
    "dataloader = DataLoader(dataset, \n",
    "                        batch_size=batch_size, \n",
    "                        collate_fn=trackml_collate, \n",
    "                        drop_last=True, \n",
    "                        shuffle=True,\n",
    "                        num_workers=0)\n",
    "\n",
    "net = GNN(nb_hidden, nb_layers, nb_hidden, 6)\n",
    "optim = torch.optim.Adamax(net.parameters(), lr=learn_rate)\n",
    "print(net)"
   ]
  },
  {
   "cell_type": "markdown",
   "metadata": {},
   "source": [
    "### Loss\n",
    "Hinge embedding loss produces embeddings which are amenable to clustering.\n",
    "Here a DGL edge function is used."
   ]
  },
  {
   "cell_type": "code",
   "execution_count": 10,
   "metadata": {},
   "outputs": [],
   "source": [
    "def get_emb_for_loss(e):\n",
    "    src = e.src['emb']\n",
    "    dst = e.dst['emb']\n",
    "    truth = e.data['truth']\n",
    "    pred_dst = nn.functional.pairwise_distance(src, dst)\n",
    "    true_dst = truth*2 -1\n",
    "    loss = nn.functional.hinge_embedding_loss(pred_dst, true_dst, reduction='none')\n",
    "    return {'loss':loss, 'pred_dst':pred_dst, 'true_dst':true_dst}"
   ]
  },
  {
   "cell_type": "markdown",
   "metadata": {},
   "source": [
    "### Accuracy\n",
    "An accuracy proxy helps as a sanity check during training."
   ]
  },
  {
   "cell_type": "code",
   "execution_count": 11,
   "metadata": {},
   "outputs": [],
   "source": [
    "def score_dist_accuracy(pred, true):\n",
    "    pred = pred.round()\n",
    "    pred[pred!=0] = 1\n",
    "    pred = 1-pred\n",
    "    correct = pred==true\n",
    "    nb_correct = correct.sum()\n",
    "    nb_total = true.size(0)\n",
    "    score = float(nb_correct.item()) / nb_total\n",
    "    return score"
   ]
  },
  {
   "cell_type": "markdown",
   "metadata": {},
   "source": [
    "### Training\n",
    "Train over the dataset for a few epochs. "
   ]
  },
  {
   "cell_type": "code",
   "execution_count": 18,
   "metadata": {},
   "outputs": [
    {
     "name": "stdout",
     "output_type": "stream",
     "text": [
      "\n",
      "Training on 400 samples\n"
     ]
    },
    {
     "name": "stderr",
     "output_type": "stream",
     "text": [
      "/home/nicholas/venv/kdd/lib64/python3.7/site-packages/dgl/base.py:18: UserWarning: Initializer is not set. Use zero initializer instead. To suppress this warning, use `set_initializer` to explicitly specify which initializer to use.\n",
      "  warnings.warn(msg)\n"
     ]
    },
    {
     "name": "stdout",
     "output_type": "stream",
     "text": [
      "  200  Loss: 0.041  Acc: 97.0\n",
      "  400  Loss: 0.048  Acc: 96.5\n",
      "\n",
      "Training on 400 samples\n",
      "  200  Loss: 0.035  Acc: 97.7\n",
      "  400  Loss: 0.042  Acc: 97.1\n",
      "\n",
      "Training on 400 samples\n",
      "  200  Loss: 0.031  Acc: 98.1\n",
      "  400  Loss: 0.038  Acc: 97.5\n",
      "\n",
      "Training on 400 samples\n",
      "  200  Loss: 0.028  Acc: 98.3\n",
      "  400  Loss: 0.036  Acc: 97.6\n",
      "\n",
      "Training on 400 samples\n",
      "  200  Loss: 0.027  Acc: 98.5\n",
      "  400  Loss: 0.034  Acc: 97.9\n",
      "\n",
      "Training on 400 samples\n",
      "  200  Loss: 0.026  Acc: 98.5\n",
      "  400  Loss: 0.032  Acc: 98.0\n",
      "\n",
      "Training on 400 samples\n",
      "  200  Loss: 0.024  Acc: 98.6\n",
      "  400  Loss: 0.030  Acc: 98.1\n",
      "\n",
      "Training on 400 samples\n",
      "  200  Loss: 0.023  Acc: 98.7\n",
      "  400  Loss: 0.029  Acc: 98.2\n",
      "\n",
      "Training on 400 samples\n",
      "  200  Loss: 0.021  Acc: 98.8\n",
      "  400  Loss: 0.028  Acc: 98.3\n",
      "\n",
      "Training on 400 samples\n",
      "  200  Loss: 0.021  Acc: 98.8\n",
      "  400  Loss: 0.026  Acc: 98.3\n",
      "\n",
      "Training on 400 samples\n",
      "  200  Loss: 0.020  Acc: 98.8\n",
      "  400  Loss: 0.026  Acc: 98.4\n",
      "\n",
      "Training on 400 samples\n",
      "  200  Loss: 0.019  Acc: 98.8\n",
      "  400  Loss: 0.025  Acc: 98.4\n",
      "\n",
      "Training on 400 samples\n",
      "  200  Loss: 0.019  Acc: 98.8\n",
      "  400  Loss: 0.024  Acc: 98.4\n",
      "\n",
      "Training on 400 samples\n",
      "  200  Loss: 0.019  Acc: 98.8\n",
      "  400  Loss: 0.024  Acc: 98.5\n",
      "\n",
      "Training on 400 samples\n",
      "  200  Loss: 0.018  Acc: 98.8\n",
      "  400  Loss: 0.023  Acc: 98.5\n",
      "\n",
      "Training on 400 samples\n",
      "  200  Loss: 0.018  Acc: 98.9\n",
      "  400  Loss: 0.023  Acc: 98.6\n",
      "\n",
      "Training on 400 samples\n",
      "  200  Loss: 0.018  Acc: 98.9\n",
      "  400  Loss: 0.022  Acc: 98.6\n",
      "\n",
      "Training on 400 samples\n",
      "  200  Loss: 0.018  Acc: 98.9\n",
      "  400  Loss: 0.022  Acc: 98.6\n",
      "\n",
      "Training on 400 samples\n",
      "  200  Loss: 0.017  Acc: 98.9\n",
      "  400  Loss: 0.021  Acc: 98.6\n",
      "\n",
      "Training on 400 samples\n",
      "  200  Loss: 0.017  Acc: 98.9\n",
      "  400  Loss: 0.021  Acc: 98.6\n"
     ]
    }
   ],
   "source": [
    "def train_one_epoch(net, batch_size, optimizer, train_loader):\n",
    "    net.train()\n",
    "\n",
    "    nb_batch = len(train_loader)\n",
    "    nb_train = nb_batch * batch_size\n",
    "    epoch_score = 0\n",
    "    epoch_loss  = 0\n",
    "\n",
    "    print(\"\\nTraining on {} samples\".format(nb_train))\n",
    "    for i, (g_input, g_true) in enumerate(train_loader):\n",
    "        optimizer.zero_grad()\n",
    "        \n",
    "        f = g_input.ndata['feat']\n",
    "        g_true.ndata['emb'] = net(g_input)\n",
    "        \n",
    "        g_true.apply_edges(get_emb_for_loss)\n",
    "        loss = g_true.edata.pop('loss').mean()\n",
    "        score = score_dist_accuracy(g_true.edata.pop('pred_dst'), g_true.edata.pop('truth'))\n",
    "\n",
    "        loss.backward()\n",
    "        optimizer.step()\n",
    "\n",
    "        epoch_score += score * 100\n",
    "        epoch_loss  += loss.item()\n",
    "\n",
    "        nb_proc = (i+1) * batch_size\n",
    "        if (((i+1) % (nb_batch//2)) == 0):\n",
    "            print(\"  {:2d}  Loss: {:.3f}  Acc: {:2.1f}\".format(nb_proc, epoch_loss/(i+1), epoch_score/(i+1)))\n",
    "    return epoch_loss / nb_batch, epoch_score / nb_batch\n",
    "\n",
    "for i in range(20):\n",
    "    train_one_epoch(net, batch_size, optim, dataloader)"
   ]
  },
  {
   "cell_type": "markdown",
   "metadata": {},
   "source": [
    "# Clustering"
   ]
  },
  {
   "cell_type": "code",
   "execution_count": 19,
   "metadata": {},
   "outputs": [],
   "source": [
    "dataloader = DataLoader(dataset, batch_size=1, collate_fn=trackml_collate)\n",
    "\n",
    "# Embed samples\n",
    "orig_xyz = []\n",
    "emb_metric = []\n",
    "emb_gnn = []\n",
    "pid = []\n",
    "weight = []\n",
    "net.eval()\n",
    "with torch.autograd.no_grad():\n",
    "    for i, (g_input, g_true) in enumerate(dataloader):\n",
    "        f = g_input.ndata['feat']\n",
    "        pid.append(g_input.ndata['pid'])\n",
    "        orig_xyz.append(g_input.ndata['feat'][:,:3])\n",
    "        emb_metric.append(g_input.ndata['feat'][:,3:])\n",
    "        weight.append(g_input.ndata['weight'])\n",
    "        hits_emb = net(g_input)\n",
    "        emb_gnn.append(hits_emb.numpy())"
   ]
  },
  {
   "cell_type": "markdown",
   "metadata": {},
   "source": [
    "As a sanity check, visualize the tracks in the original space, metric learning embedding, and GNN embedding.\n",
    "Not that the metric learning model was trained for many hours on GPU, while training the GNN in this notebook is quite limited."
   ]
  },
  {
   "cell_type": "code",
   "execution_count": 20,
   "metadata": {},
   "outputs": [
    {
     "data": {
      "image/png": "[encoded data removed]",
      "text/plain": [
       "<Figure size 432x288 with 1 Axes>"
      ]
     },
     "metadata": {
      "needs_background": "light"
     },
     "output_type": "display_data"
    },
    {
     "data": {
      "image/png": "[encoded data removed]",
      "text/plain": [
       "<Figure size 432x288 with 1 Axes>"
      ]
     },
     "metadata": {
      "needs_background": "light"
     },
     "output_type": "display_data"
    },
    {
     "data": {
      "image/png": "[encoded data removed]",
      "text/plain": [
       "<Figure size 432x288 with 1 Axes>"
      ]
     },
     "metadata": {
      "needs_background": "light"
     },
     "output_type": "display_data"
    },
    {
     "data": {
      "text/plain": [
       "<Figure size 432x288 with 0 Axes>"
      ]
     },
     "metadata": {},
     "output_type": "display_data"
    }
   ],
   "source": [
    "j = 1\n",
    "to_plot = [orig_xyz[j], emb_metric[j], emb_gnn[j]]\n",
    "for emb in to_plot:\n",
    "    plot_clusters(emb[:,0], emb[:,1], pid[j])"
   ]
  },
  {
   "cell_type": "markdown",
   "metadata": {},
   "source": [
    "### DBSCAN\n",
    "Cluster the embeddings output by the GNN for final evaluation."
   ]
  },
  {
   "cell_type": "code",
   "execution_count": 21,
   "metadata": {},
   "outputs": [],
   "source": [
    "# Cluster\n",
    "from sklearn.cluster import DBSCAN\n",
    "\n",
    "c = DBSCAN(eps=.24, min_samples=3)\n",
    "\n",
    "def get_clusters(embedding):\n",
    "    return c.fit_predict(embedding)"
   ]
  },
  {
   "cell_type": "markdown",
   "metadata": {},
   "source": [
    "# Scoring\n",
    "The score of one predicted cluster is nonzero only if a large majority ofits points belong to the same true cluster, and if the majority of the true cluster iscontained within the predicted cluster.  A perfect clustering will thus lead to a score of 1, while a random clustering will almost certainly have a score of 0."
   ]
  },
  {
   "cell_type": "code",
   "execution_count": 22,
   "metadata": {},
   "outputs": [],
   "source": [
    "# Score samples\n",
    "from gnn_utils import score_event"
   ]
  },
  {
   "cell_type": "code",
   "execution_count": 23,
   "metadata": {},
   "outputs": [
    {
     "name": "stdout",
     "output_type": "stream",
     "text": [
      "TrackML score: 0.89\n"
     ]
    }
   ],
   "source": [
    "### Get final cluster scores\n",
    "import pandas\n",
    "\n",
    "avg_score = 0.0\n",
    "nb_samples = 20\n",
    "for i in range(nb_samples):\n",
    "    # emb = samples[i]['hits']['emb']\n",
    "    # clusters = get_clusters(emb)\n",
    "    clusters = get_clusters(emb_gnn[i])\n",
    "    hit_ids = np.arange(len(clusters))\n",
    "    truth = pandas.DataFrame.from_dict({'particle_id':pid[i].numpy(),\n",
    "                                        'hit_id':hit_ids,\n",
    "                                        'weight':weight[i].numpy()})\n",
    "    submission = pandas.DataFrame.from_dict({'hit_id':hit_ids,\n",
    "                                             'track_id':clusters})\n",
    "    score = score_event(truth, submission)\n",
    "    avg_score += score\n",
    "print(\"TrackML score: {:.2f}\".format(avg_score / nb_samples))"
   ]
  }
 ],
 "metadata": {
  "kernelspec": {
   "display_name": "Python 3",
   "language": "python",
   "name": "python3"
  },
  "language_info": {
   "codemirror_mode": {
    "name": "ipython",
    "version": 3
   },
   "file_extension": ".py",
   "mimetype": "text/x-python",
   "name": "python",
   "nbconvert_exporter": "python",
   "pygments_lexer": "ipython3",
   "version": "3.7.3"
  }
 },
 "nbformat": 4,
 "nbformat_minor": 2
}
