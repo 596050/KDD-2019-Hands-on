{
 "cells": [
  {
   "cell_type": "markdown",
   "metadata": {},
   "source": [
    "# Recommender Systems with DGL\n",
    "\n",
    "## Introduction\n",
    "\n",
    "Graph Neural Networks (GNN), as a methodology of learning representations on graphs, has gained much attention recently.  Various models such as Graph Convolutional Networks, GraphSAGE, etc. are proposed to obtain representations of whole graphs, or nodes on a single graph.\n",
    "\n",
    "A primary goal of Collaborative Filtering (CF) is to automatically make predictions about a user's interest, e.g. whether/how a user would interact with a set of items, given the interaction history of the user herself, as well as the histories of other users.  The user-item interaction can also be viewed as a bipartite graph, where users and items form two sets of nodes, and edges connecting them stands for interactions.  The problem can then be formulated as a *link-prediction* problem, where we try to predict whether an edge (of a given type) exists between two nodes.\n",
    "\n",
    "Based on this intuition, the academia developed multiple new models for CF, including but not limited to:\n",
    "\n",
    "* Geometric Learning Approaches\n",
    "  * [Geometric Matrix Completion](https://papers.nips.cc/paper/5938-collaborative-filtering-with-graph-information-consistency-and-scalable-methods.pdf)\n",
    "  * [Recurrent Multi-graph CNN](https://arxiv.org/pdf/1704.06803.pdf)\n",
    "* Graph-convolutional Approaches\n",
    "  * Models such as [R-GCN](https://arxiv.org/pdf/1703.06103.pdf) or [GraphSAGE](https://github.com/stellargraph/stellargraph/tree/develop/demos/link-prediction/hinsage) also apply.\n",
    "  * [Graph Convolutional Matrix Completion](https://arxiv.org/abs/1706.02263)\n",
    "  * [PinSage](https://arxiv.org/pdf/1806.01973.pdf)\n",
    "  \n",
    "In this hands-on tutorial, we will demonstrate how to write GraphSAGE in DGL + MXNet, and how to apply it in a recommender system setting."
   ]
  },
  {
   "cell_type": "markdown",
   "metadata": {},
   "source": [
    "## Dependencies\n",
    "\n",
    "* Latest DGL release: `conda install -c dglteam dgl`\n",
    "* `pandas`\n",
    "* `stanfordnlp`\n",
    "* `mxnet`\n",
    "* `tqdm` for displaying the progress bar."
   ]
  },
  {
   "cell_type": "markdown",
   "metadata": {},
   "source": [
    "## Loading data\n",
    "\n",
    "In this tutorial, we focus on rating prediction on MovieLens-1M dataset.  The data comes from [MovieLens](http://files.grouplens.org/datasets/movielens/ml-1m.zip) and is shipped with the notebook already.\n",
    "\n",
    "After loading and train-validation-test-splitting the dataset, we process the movie title into (padded) word-ID sequences, and other features into categorical variables (i.e. integers).  We then store them as node features on the graph.\n",
    "\n",
    "Since user features and item features are different, we pad both types of features with zeros.\n",
    "\n",
    "All of the above is encapsulated in `movielens.MovieLens` class for clarity of this notebook."
   ]
  },
  {
   "cell_type": "code",
   "execution_count": null,
   "metadata": {},
   "outputs": [],
   "source": [
    "import mxnet as mx\n",
    "from mxnet import ndarray as nd, autograd, gluon\n",
    "from mxnet.gluon import nn\n",
    "import dgl\n",
    "import dgl.function as FN\n",
    "import numpy as np"
   ]
  },
  {
   "cell_type": "code",
   "execution_count": null,
   "metadata": {},
   "outputs": [],
   "source": [
    "import movielens\n",
    "import stanfordnlp\n",
    "\n",
    "# IMPORTANT!!!\n",
    "# If you don't have stanfordnlp installed and the English models downloaded, please uncomment this statement\n",
    "#stanfordnlp.download('en', force=True)\n",
    "\n",
    "ml = movielens.MovieLens('ml-100k')"
   ]
  },
  {
   "cell_type": "markdown",
   "metadata": {},
   "source": [
    "## See the features in the MovieLens dataset\n",
    "\n",
    "The MovieLens dataset has some user features and movie features.\n",
    "\n",
    "User features:\n",
    "* age,\n",
    "* gender,\n",
    "* occupation,\n",
    "* zip code,\n",
    "\n",
    "Movie features:\n",
    "* genre,\n",
    "* year,\n",
    "* title\n",
    "\n",
    "We use one-hot encoding for \"age\", \"gender\", \"occupation\", \"zip code\" and \"year\". \"genre\" uses multi-hop encoding while \"title\" encodes the frequency of different words. For simplicity, we store \"genre\" and \"title\" in float32 dense matrices."
   ]
  },
  {
   "cell_type": "code",
   "execution_count": null,
   "metadata": {},
   "outputs": [],
   "source": [
    "g = ml.g\n",
    "print(g.ndata)"
   ]
  },
  {
   "cell_type": "markdown",
   "metadata": {},
   "source": [
    "MovieLens is a bipartite graph. It has user nodes and movie nodes. When we construct the graph, we add a vector on the node data to identify the node type of every node. User nodes are `1` and movie nodes are `0`."
   ]
  },
  {
   "cell_type": "code",
   "execution_count": null,
   "metadata": {},
   "outputs": [],
   "source": [
    "g.ndata['type']"
   ]
  },
  {
   "cell_type": "markdown",
   "metadata": {},
   "source": [
    "## Compute embeddings on the MovieLens dataset\n",
    "\n",
    "\"age\", \"gender\", \"occupation\", \"zip code\" and \"year\" use one-hot encoding. \"genre\" and \"title\" are stored in float32 dense matrices. In addition, we add one-hot encoding for every user node and every movie node.\n",
    "\n",
    "We add them to construct the inital node features."
   ]
  },
  {
   "cell_type": "code",
   "execution_count": null,
   "metadata": {},
   "outputs": [],
   "source": [
    "def mix_embeddings(ndata, gcn):\n",
    "    \"\"\"Adds external (categorical and numeric) features into node representation G.ndata['h']\"\"\"\n",
    "    extra_repr = []\n",
    "    for key, value in ndata.items():\n",
    "        if (value.dtype == np.int64) and key in gcn.emb:\n",
    "            result = gcn.emb[key](value)\n",
    "            if result.ndim == 3:    # bag of words: the result would be a (n_nodes x seq_len x feature_size) tensor\n",
    "                mask = value != 0\n",
    "                result = (result * mask.expand_dims(2).astype(float)).sum(1) / mask.sum(1)\n",
    "            extra_repr.append(result)\n",
    "        elif (value.dtype == np.float32) and key in gcn.proj:\n",
    "            result = gcn.proj[key](value)\n",
    "            extra_repr.append(result)\n",
    "    ndata['h'] = ndata['h'] + nd.stack(*extra_repr, axis=0).sum(axis=0)\n",
    "\n",
    "class MovieLensEmbedding(nn.Block):\n",
    "    def __init__(self, G, feature_size):\n",
    "        super(MovieLensEmbedding, self).__init__()\n",
    "        self.emb = {}\n",
    "        self.proj = {}\n",
    "\n",
    "        for key, scheme in G.node_attr_schemes().items():\n",
    "            if scheme.dtype == np.int64:\n",
    "                # This is for one-hot encoding.\n",
    "                n_items = G.ndata[key].max().asscalar()\n",
    "                self.emb[key] = nn.Embedding(n_items + 1, feature_size)\n",
    "                # We need to make it a member of the class in order to\n",
    "                # initialize the weight matrix.\n",
    "                setattr(self, 'emb_' + key, self.emb[key])\n",
    "            elif scheme.dtype == np.float32:\n",
    "                seq = nn.Sequential()\n",
    "                with seq.name_scope():\n",
    "                    w = nn.Dense(feature_size)\n",
    "                    seq.add(w)\n",
    "                    seq.add(nn.LeakyReLU(0.1))\n",
    "                self.proj[key] = seq\n",
    "                # We need to make it a member of the class in order to\n",
    "                # initialize the weight matrix.\n",
    "                setattr(self, 'proj_' + key, seq)\n",
    "        \n",
    "        self.node_emb = nn.Embedding(G.number_of_nodes() + 1, feature_size)\n",
    "\n",
    "    def forward(self, ndata, nids):\n",
    "        ndata['h'] = self.node_emb(nids + 1)\n",
    "        mix_embeddings(ndata, self)\n",
    "    "
   ]
  },
  {
   "cell_type": "markdown",
   "metadata": {},
   "source": [
    "## Model\n",
    "\n",
    "We can now write a GraphSAGE layer.  In GraphSAGE, the node representation is updated with the representation in the previous layer as well as an aggregation (often mean) of \"messages\" sent from all neighboring nodes.\n",
    "\n",
    "### Algorithm\n",
    "\n",
    "The algorithm of a single GraphSAGE layer goes as follows for each node $v$:\n",
    "\n",
    "1. $h_{\\mathcal{N}(v)} \\gets \\mathtt{Average}_{u \\in \\mathcal{N}(v)} h_{u}$\n",
    "2. $h_{v} \\gets \\sigma\\left(W \\cdot \\mathtt{CONCAT}(h_v, h_{\\mathcal{N}(v)})\\right)$\n",
    "3. $h_{v} \\gets h_{v} / \\lVert h_{v} \\rVert_2$\n",
    "\n",
    "where\n",
    "\n",
    "* $\\mathtt{Average}$ can be replaced by any kind of aggregation including `sum`, `max`, or even an LSTM.\n",
    "* $\\sigma$ is any non-linearity function (e.g. `LeakyReLU`)\n",
    "\n",
    "We simply repeat the computation above for multiple GraphSAGE layers."
   ]
  },
  {
   "cell_type": "code",
   "execution_count": null,
   "metadata": {},
   "outputs": [],
   "source": [
    "class GraphSage(nn.Block):\n",
    "    def __init__(self, feature_size, n_layers, G):\n",
    "        super(GraphSage, self).__init__()\n",
    "        \n",
    "        self.feature_size = feature_size\n",
    "        self.n_layers = n_layers\n",
    "\n",
    "        self.layers = gluon.nn.Sequential()\n",
    "        for i in range(n_layers):\n",
    "            self.layers.add(GraphSageNodeUpdate(feature_size))\n",
    "\n",
    "        self.G = G\n",
    "        self.emb = MovieLensEmbedding(G, feature_size)\n",
    "\n",
    "    def forward(self, G):\n",
    "        assert G.number_of_nodes() == self.G.number_of_nodes()\n",
    "        all_nodes = mx.nd.arange(G.number_of_nodes(), dtype=np.int64)\n",
    "        self.emb(G.ndata, all_nodes)\n",
    "            \n",
    "        if self.n_layers == 0:\n",
    "            return nf.layers[i].data['h']\n",
    "        \n",
    "        G.ndata['deg'] = G.in_degrees(all_nodes).astype(np.float32)\n",
    "        for i in range(self.n_layers):\n",
    "            G.update_all(FN.copy_src('h', 'h'), FN.sum('h', 'h_agg'), self.layers[i])\n",
    "\n",
    "        return G.ndata['h']"
   ]
  },
  {
   "cell_type": "markdown",
   "metadata": {},
   "source": [
    "## GraphSage node update function\n",
    "\n",
    "The MovieLens dataset has two types of nodes: users and movies. We need to perform separate node update functions on the two types of nodes.\n",
    "\n",
    "The node update function performs the computation of the last two steps as shown above.\n",
    "\n",
    "For the movie nodes,\n",
    "\n",
    "$h_{m} \\gets \\sigma\\left(W0 \\cdot \\mathtt{CONCAT}(h_m, h_{\\mathcal{N}(m)} / d_{\\mathcal{N}(m)})\\right)$, \n",
    "$h_{m} \\gets h_{m} / \\lVert h_{m} \\rVert_2$\n",
    "\n",
    "For the user nodes,\n",
    "\n",
    "$h_{u} \\gets \\sigma\\left(W1 \\cdot \\mathtt{CONCAT}(h_u, h_{\\mathcal{N}(u)} / d_{\\mathcal{N}(u)})\\right)$,\n",
    "$h_{u} \\gets h_{u} / \\lVert h_{u} \\rVert_2$"
   ]
  },
  {
   "cell_type": "code",
   "execution_count": null,
   "metadata": {},
   "outputs": [],
   "source": [
    "class GraphSageNodeUpdate(nn.Block):\n",
    "    def __init__(self, feature_size):\n",
    "        super(GraphSageNodeUpdate, self).__init__()\n",
    "\n",
    "        self.feature_size = feature_size\n",
    "        self.W0 = nn.Dense(feature_size)\n",
    "        self.W1 = nn.Dense(feature_size)\n",
    "        self.leaky_relu = nn.LeakyReLU(0.1)\n",
    "\n",
    "    def forward(self, nodes):\n",
    "        # Node embedding from the previous layer.\n",
    "        h = nodes.data['h']\n",
    "        # Aggregation of the node embeddings in the neighborhood\n",
    "        h_agg = nodes.data['h_agg']\n",
    "        # Degree of the vertex.\n",
    "        deg = nodes.data['deg'].expand_dims(1)\n",
    "        h_concat = nd.concat(h, h_agg / nd.maximum(deg, 1e-6), dim=1)\n",
    "        \n",
    "        # There are two types of nodes. Each type should have their own model weights.\n",
    "        h_new0 = self.W0(h_concat)\n",
    "        h_new1 = self.W1(h_concat)\n",
    "        # We need to pick the right embedding\n",
    "        h_new = nd.where(nodes.data['type'], h_new0, h_new1)\n",
    "        \n",
    "        h_new = self.leaky_relu(h_new)\n",
    "        # Layer norm\n",
    "        return {'h': h_new / nd.maximum(h_new.norm(axis=1, keepdims=True), 1e-6)}"
   ]
  },
  {
   "cell_type": "markdown",
   "metadata": {},
   "source": [
    "## Rating score\n",
    "\n",
    "In this graph, a movie node can only connect to a user mode, vice versa. There are no connections between movie nodes, nor between user nodes.\n",
    "\n",
    "For recommendation, the rating on item $j$ by user $i$ is defined by $u_i^T v_j$.\n",
    "\n",
    "We minimize $$\\Sigma_{i,j}(r_{i,j}-(u_i^T v_j))^2$$.\n",
    "\n",
    "In practice, recommendation models have user bias term and movie bias term. Thus, we minimize\n",
    "$$\\Sigma_{i,j}(r_{i,j}-(u_i^T v_j + b_{u_i} + b_{v_j}))^2$$."
   ]
  },
  {
   "cell_type": "markdown",
   "metadata": {},
   "source": [
    "When we generate a `NodeFlow`, roughly half of the target nodes are both movie nodes and half of them are user nodes. When we run GraphSage on the target nodes, we basically improve the embedding of the target nodes with their neighbors. Then we use the final node embedding for rating prediction."
   ]
  },
  {
   "cell_type": "code",
   "execution_count": null,
   "metadata": {},
   "outputs": [],
   "source": [
    "class GraphSAGERecommenderFull(nn.Block):\n",
    "    def __init__(self, gcn):\n",
    "        super(GraphSAGERecommenderFull, self).__init__()\n",
    "        \n",
    "        with self.name_scope():\n",
    "            self.gcn = gcn\n",
    "            self.node_biases = self.params.get(\n",
    "                'node_biases',\n",
    "                init=mx.init.Zero(),\n",
    "                shape=(gcn.G.number_of_nodes()+1,))\n",
    "        \n",
    "    def forward(self, G, src, dst):\n",
    "        h_output = self.gcn(G)\n",
    "        h_src = h_output[src]\n",
    "        h_dst = h_output[dst]\n",
    "        score = (h_src * h_dst).sum(1) + self.node_biases.data()[src+1] + self.node_biases.data()[dst+1]\n",
    "        return score"
   ]
  },
  {
   "cell_type": "markdown",
   "metadata": {},
   "source": [
    "## Construct the training set\n",
    "\n",
    "We train on a subset of edges in the MovieLens dataset. To construct the training set, we takes all the edges for training and construct a graph with these edges.\n",
    "\n",
    "We first use `filter_edges` to select the edge Ids for training. We call `edge_subgraph` to construct the induced subgraph with the training edges. In the induced subgraph, we preserve all nodes from the parent graph."
   ]
  },
  {
   "cell_type": "code",
   "execution_count": null,
   "metadata": {},
   "outputs": [],
   "source": [
    "g = ml.g\n",
    "# Find the subgraph of all \"training\" edges\n",
    "train_eid = g.filter_edges(lambda edges: edges.data['train']).astype('int64')\n",
    "g_train = g.edge_subgraph(train_eid, preserve_nodes=True)\n",
    "g_train.copy_from_parent()\n",
    "rating_train = g_train.edata['rating']\n",
    "src_train, dst_train = g_train.all_edges()"
   ]
  },
  {
   "cell_type": "markdown",
   "metadata": {},
   "source": [
    "## Construct the test set\n",
    "\n",
    "Similarly, we use `filter_edges` to select the edge Ids for testing."
   ]
  },
  {
   "cell_type": "code",
   "execution_count": null,
   "metadata": {},
   "outputs": [],
   "source": [
    "eid_test = g.filter_edges(lambda edges: edges.data['test']).astype('int64')\n",
    "src_test, dst_test = g.find_edges(eid_test)\n",
    "rating_test = g.edges[eid_test].data['rating']"
   ]
  },
  {
   "cell_type": "markdown",
   "metadata": {},
   "source": [
    "## Run the model"
   ]
  },
  {
   "cell_type": "code",
   "execution_count": null,
   "metadata": {
    "scrolled": false
   },
   "outputs": [],
   "source": [
    "model = GraphSAGERecommenderFull(GraphSage(100, 1, g_train))\n",
    "model.collect_params().initialize(ctx=mx.cpu())\n",
    "trainer = gluon.Trainer(model.collect_params(), 'adam', {'learning_rate': 0.0002, 'wd': 1e-9})\n",
    "\n",
    "for epoch in range(200):\n",
    "    for i in range(100):\n",
    "        # Training\n",
    "        with mx.autograd.record():\n",
    "            score = model(g_train, src_train, dst_train)\n",
    "            loss = ((score - rating_train) ** 2).mean()\n",
    "            loss.backward()\n",
    "        trainer.step(1)\n",
    "\n",
    "        # Testing\n",
    "        h = model.gcn(g)\n",
    "        # Compute test RMSE\n",
    "        node_biases = model.node_biases.data()\n",
    "        score = (h[src_test] * h[dst_test]).sum(1) + node_biases[src_test + 1] + node_biases[dst_test + 1]\n",
    "        test_rmse = nd.sqrt(((score - rating_test) ** 2).mean())\n",
    "\n",
    "    print('Training loss:', loss.asscalar(), 'Test RMSE:', test_rmse.asscalar())"
   ]
  }
 ],
 "metadata": {
  "kernelspec": {
   "display_name": "Python 3",
   "language": "python",
   "name": "python3"
  },
  "language_info": {
   "codemirror_mode": {
    "name": "ipython",
    "version": 3
   },
   "file_extension": ".py",
   "mimetype": "text/x-python",
   "name": "python",
   "nbconvert_exporter": "python",
   "pygments_lexer": "ipython3",
   "version": "3.7.0"
  }
 },
 "nbformat": 4,
 "nbformat_minor": 2
}
